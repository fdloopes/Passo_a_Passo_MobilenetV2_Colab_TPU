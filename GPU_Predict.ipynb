{
  "nbformat": 4,
  "nbformat_minor": 0,
  "metadata": {
    "colab": {
      "name": "GPU_Predict.ipynb",
      "provenance": [],
      "collapsed_sections": []
    },
    "kernelspec": {
      "name": "python3",
      "display_name": "Python 3"
    },
    "language_info": {
      "name": "python"
    },
    "accelerator": "GPU"
  },
  "cells": [
    {
      "cell_type": "markdown",
      "metadata": {
        "id": "YCHs0sqCsyC1"
      },
      "source": [
        "## **Clonando e instalando o Tensorflow API Object Detection** \n",
        "\n",
        "Para usar a API do Tensorflow para detecção de objetos é necessário clonar seu repositório no Github."
      ]
    },
    {
      "cell_type": "code",
      "metadata": {
        "id": "DVOTE5LSwcSP"
      },
      "source": [
        "!git clone https://github.com/tensorflow/models.git"
      ],
      "execution_count": null,
      "outputs": []
    },
    {
      "cell_type": "markdown",
      "metadata": {
        "id": "lSRKQEqkwu1u"
      },
      "source": [
        "A API do Tensorflow depende dos chamados `protocol buffers`, também conhecidos como `protobufs`.<br/>\n",
        "Abaixo estamos compilando todos os `protobufs` na pasta `object_detection/protos` em Python."
      ]
    },
    {
      "cell_type": "code",
      "metadata": {
        "id": "2d31tAxVwnQa"
      },
      "source": [
        "%cd /content/models/research/\n",
        "!protoc object_detection/protos/*.proto --python_out=."
      ],
      "execution_count": null,
      "outputs": []
    },
    {
      "cell_type": "markdown",
      "metadata": {
        "id": "MOrdQCZhw5FP"
      },
      "source": [
        "Instalando a API do Tensorflow"
      ]
    },
    {
      "cell_type": "code",
      "metadata": {
        "id": "UhGod9y-w9fD"
      },
      "source": [
        "!cp object_detection/packages/tf2/setup.py .\n",
        "!python -m pip install ."
      ],
      "execution_count": null,
      "outputs": []
    },
    {
      "cell_type": "markdown",
      "metadata": {
        "id": "olBKl3vkxnpW"
      },
      "source": [
        "Executando o teste de construtor de modelo"
      ]
    },
    {
      "cell_type": "code",
      "metadata": {
        "id": "b_uRRbgVx1as"
      },
      "source": [
        "!python /content/models/research/object_detection/builders/model_builder_tf2_test.py"
      ],
      "execution_count": null,
      "outputs": []
    },
    {
      "cell_type": "markdown",
      "metadata": {
        "id": "4zl0IhKt9hme"
      },
      "source": [
        "## **Configurações Google Cloud Service Bucket**"
      ]
    },
    {
      "cell_type": "markdown",
      "metadata": {
        "id": "IPK3WYIZt5mQ"
      },
      "source": [
        "Setando várias para facilitar o acesso"
      ]
    },
    {
      "cell_type": "code",
      "metadata": {
        "id": "rM6Xs5gC_nvj"
      },
      "source": [
        "PROJECT = \"Your Project Here\"\n",
        "YOUR_GCS_BUCKET = \"Your GCS Bucket Here\""
      ],
      "execution_count": 5,
      "outputs": []
    },
    {
      "cell_type": "code",
      "metadata": {
        "id": "Z2v7G9s59sqo"
      },
      "source": [
        "!gcloud config set project '{PROJECT}'"
      ],
      "execution_count": null,
      "outputs": []
    },
    {
      "cell_type": "markdown",
      "metadata": {
        "id": "bPzGw__a9vjH"
      },
      "source": [
        "Cria acesso ao bucket que se deseja acessar"
      ]
    },
    {
      "cell_type": "code",
      "metadata": {
        "id": "RDE7grQr-Hqs"
      },
      "source": [
        "!gsutil mb gs://'{YOUR_GCS_BUCKET}'"
      ],
      "execution_count": null,
      "outputs": []
    },
    {
      "cell_type": "markdown",
      "metadata": {
        "id": "5fEj2b5T-JrN"
      },
      "source": [
        "Autenticação ao Bucket"
      ]
    },
    {
      "cell_type": "code",
      "metadata": {
        "id": "cA0XiRKy-MK7"
      },
      "source": [
        "!gcloud auth login"
      ],
      "execution_count": null,
      "outputs": []
    },
    {
      "cell_type": "code",
      "metadata": {
        "id": "QzN4Iz64BRju"
      },
      "source": [
        "!gcloud auth application-default login"
      ],
      "execution_count": null,
      "outputs": []
    },
    {
      "cell_type": "markdown",
      "metadata": {
        "id": "hNi-M96zcOtl"
      },
      "source": [
        "## **Definindo os variaveis necessarias**"
      ]
    },
    {
      "cell_type": "code",
      "metadata": {
        "id": "5NGpvu9Bc32X"
      },
      "source": [
        "model_dir = \"gs://\"+YOUR_GCS_BUCKET+\"/train\"\n",
        "labelmap_path = \"gs://\"+YOUR_GCS_BUCKET+\"/data/object-detection.pbtxt\"\n",
        "\n",
        "pipeline_config_path = \"gs://\"+YOUR_GCS_BUCKET+\"/data/mobilenet_v2.config\"\n",
        "fine_tune_checkpoint = \"gs://\"+YOUR_GCS_BUCKET+\"/train/your checkpoint here\""
      ],
      "execution_count": 10,
      "outputs": []
    },
    {
      "cell_type": "markdown",
      "metadata": {
        "id": "-MoodVVij-85"
      },
      "source": [
        "## **Exporta o modelo treinado**"
      ]
    },
    {
      "cell_type": "code",
      "metadata": {
        "id": "MqurWSuikDIx"
      },
      "source": [
        "!python /content/models/research/object_detection/exporter_main_v2.py \\\n",
        "    --input_type image_tensor \\\n",
        "    --pipeline_config_path {pipeline_config_path} \\\n",
        "    --trained_checkpoint_dir {model_dir} \\\n",
        "    --output_directory /content/export_model/"
      ],
      "execution_count": null,
      "outputs": []
    },
    {
      "cell_type": "markdown",
      "metadata": {
        "id": "PYdwLAHgr21n"
      },
      "source": [
        "## **Imports**"
      ]
    },
    {
      "cell_type": "code",
      "metadata": {
        "id": "sRpFZx8DBpLU"
      },
      "source": [
        "import numpy as np\n",
        "import os\n",
        "import tensorflow as tf\n",
        "\n",
        "from PIL import Image\n",
        "from IPython.display import display\n",
        "from object_detection.utils import label_map_util\n",
        "from object_detection.utils import visualization_utils as vis_util"
      ],
      "execution_count": 12,
      "outputs": []
    },
    {
      "cell_type": "markdown",
      "metadata": {
        "id": "OF0aCpTmDCxo"
      },
      "source": [
        "## **Funções auxiliares**"
      ]
    },
    {
      "cell_type": "code",
      "metadata": {
        "id": "8mX6LKN3041M"
      },
      "source": [
        "def run_inference_for_single_image(model, image):\n",
        "  image = np.asarray(image)\n",
        "\n",
        "  # A entrada do modelo deve ser um tensor\n",
        "  input_tensor = tf.convert_to_tensor(image)\n",
        "\n",
        "  # O modelo espera um lote de imagens\n",
        "  # Para isso adicione um eixo com 'tf.newaxis'\n",
        "  input_tensor = input_tensor[tf.newaxis,...]\n",
        "\n",
        "  model = model.signatures['serving_default']\n",
        "\n",
        "  # Inferencia\n",
        "  output_dict = model(input_tensor)\n",
        "\n",
        "  # Todas as saídas são tensores. \n",
        "  # Converta em matrizes numpy e pegue o índice [0] para remover a dimensão \n",
        "  # Estamos interessados ​​apenas nas primeiras num_detecções\n",
        "  num_detections = int(output_dict.pop('num_detections'))\n",
        "  output_dict = {key:value[0, :num_detections].numpy() for key, value in output_dict.items()}\n",
        "  output_dict['num_detections'] = num_detections\n",
        "\n",
        "  # As classes devem ser inteiros\n",
        "  output_dict['detection_classes'] = output_dict['detection_classes'].astype(np.int64)\n",
        "\n",
        "  return output_dict"
      ],
      "execution_count": 13,
      "outputs": []
    },
    {
      "cell_type": "markdown",
      "metadata": {
        "id": "1EendAfvD-8B"
      },
      "source": [
        "Exibe a imagem com a inferência realizada"
      ]
    },
    {
      "cell_type": "code",
      "metadata": {
        "id": "HTyNFzA4zug-"
      },
      "source": [
        "def show_inference(model, image_path, category):\n",
        "  # A representação da imagem é baseada em array e será usada posteriormente para \n",
        "  # preparar a imagem resultante com bounding box\n",
        "\n",
        "  image_np = np.array(Image.open(image_path))\n",
        "  \n",
        "  # Realiza detecção\n",
        "  output_dict = run_inference_for_single_image(model, image_np)\n",
        "\n",
        "  # Retorna imagem com resultado da inferencia\n",
        "  vis_util.visualize_boxes_and_labels_on_image_array(image_np, \n",
        "                                                     output_dict['detection_boxes'], \n",
        "                                                     output_dict['detection_classes'],\n",
        "                                                     output_dict['detection_scores'], \n",
        "                                                     category, \n",
        "                                                     instance_masks = output_dict.get('detection_masks_reframed', None),\n",
        "                                                     use_normalized_coordinates = True,\n",
        "                                                     line_thickness=8)\n",
        "  \n",
        "  display(Image.fromarray(image_np))"
      ],
      "execution_count": 14,
      "outputs": []
    },
    {
      "cell_type": "markdown",
      "metadata": {
        "id": "mlGfBbDlpTMA"
      },
      "source": [
        "Carrega o modelo"
      ]
    },
    {
      "cell_type": "code",
      "metadata": {
        "id": "Ye5vmmHt_WiB"
      },
      "source": [
        "def load_model(model_name):\n",
        "  model_dir = model_name+\"/saved_model\"\n",
        "  model = tf.saved_model.load(str(model_dir))\n",
        "  return model"
      ],
      "execution_count": 15,
      "outputs": []
    },
    {
      "cell_type": "markdown",
      "metadata": {
        "id": "17KhqpRUFFQ_"
      },
      "source": [
        "Converte imagens para o formato jpg"
      ]
    },
    {
      "cell_type": "code",
      "metadata": {
        "id": "KzwW5CQ0rZUB"
      },
      "source": [
        "def load_img(img_file):\n",
        "  im = Image.open(img_file)\n",
        "  img = im.convert(\"RGB\")\n",
        "  img.save(img_file)\n",
        "  return img_file"
      ],
      "execution_count": 16,
      "outputs": []
    },
    {
      "cell_type": "markdown",
      "metadata": {
        "id": "PjmYao-HDp1V"
      },
      "source": [
        "Transforma o labelmap em um vetor que utiliza chaves para buscar itens"
      ]
    },
    {
      "cell_type": "code",
      "metadata": {
        "id": "WR4FBE3kAPyu"
      },
      "source": [
        "def transform_labelmap():\n",
        "  \n",
        "  # Transforma o labelmap em um vetor de objetos com as categorias\n",
        "  category_index = label_map_util.create_categories_from_labelmap(labelmap_path, use_display_name=True)\n",
        "  category={}\n",
        "\n",
        "  # Associa o ID a chave do objeto\n",
        "  for ci in category_index:\n",
        "      category[ci['id']]={}\n",
        "      for k in ci.keys():\n",
        "          if k =='id': continue\n",
        "          category[ci['id']][k]=ci[k]\n",
        "\n",
        "  return category"
      ],
      "execution_count": 17,
      "outputs": []
    },
    {
      "cell_type": "markdown",
      "metadata": {
        "id": "5MjKOVIkCkqS"
      },
      "source": [
        "## **Inferências**"
      ]
    },
    {
      "cell_type": "code",
      "metadata": {
        "id": "8F-bHG0ot8pn"
      },
      "source": [
        "model_name = '/content/export_model'\n",
        "model = load_model(model_name)"
      ],
      "execution_count": 18,
      "outputs": []
    },
    {
      "cell_type": "markdown",
      "metadata": {
        "id": "THMMyMYaEtHZ"
      },
      "source": [
        "Realiza inferência em uma imagem de entrada"
      ]
    },
    {
      "cell_type": "code",
      "metadata": {
        "id": "C6X3eYX20ecB"
      },
      "source": [
        "show_inference(model,load_img(\"/content/dog.jpg\"),transform_labelmap())"
      ],
      "execution_count": null,
      "outputs": []
    }
  ]
}