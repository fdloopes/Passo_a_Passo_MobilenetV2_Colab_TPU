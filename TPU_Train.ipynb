{
  "nbformat": 4,
  "nbformat_minor": 0,
  "metadata": {
    "colab": {
      "name": "TPU_Train.ipynb",
      "provenance": [],
      "collapsed_sections": [
        "zw0IwN0lyHiq",
        "OzUM1Brk6OyN",
        "ZjfTwvJZ7OHE",
        "I_CNeQSca8Hv"
      ]
    },
    "kernelspec": {
      "name": "python3",
      "display_name": "Python 3"
    },
    "language_info": {
      "name": "python"
    },
    "accelerator": "TPU"
  },
  "cells": [
    {
      "cell_type": "markdown",
      "metadata": {
        "id": "_bf_imE9srH1"
      },
      "source": [
        "## **Configurando TPU**"
      ]
    },
    {
      "cell_type": "code",
      "metadata": {
        "id": "WhniFBTislEN"
      },
      "source": [
        "%tensorflow_version 2.x\n",
        "import tensorflow as tf\n",
        "print(\"Tensorflow version \" + tf.__version__)\n",
        "\n",
        "try:\n",
        "  tpu = tf.distribute.cluster_resolver.TPUClusterResolver()  # TPU detection\n",
        "  print('Running on TPU ', tpu.cluster_spec().as_dict()['worker'])\n",
        "except ValueError:\n",
        "  raise BaseException('ERROR: Not connected to a TPU runtime; please see the previous cell in this notebook for instructions!')\n",
        "\n",
        "tf.config.experimental_connect_to_cluster(tpu)\n",
        "tf.tpu.experimental.initialize_tpu_system(tpu)\n",
        "tpu_strategy = tf.distribute.TPUStrategy(tpu)"
      ],
      "execution_count": null,
      "outputs": []
    },
    {
      "cell_type": "markdown",
      "metadata": {
        "id": "YCHs0sqCsyC1"
      },
      "source": [
        "## **Clonando e instalando o Tensorflow API Object Detection** \n",
        "\n",
        "Para usar a API do Tensorflow para detecção de objetos é necessário clonar seu repositório no Github.\n"
      ]
    },
    {
      "cell_type": "code",
      "metadata": {
        "id": "DVOTE5LSwcSP"
      },
      "source": [
        "!git clone https://github.com/tensorflow/models.git"
      ],
      "execution_count": null,
      "outputs": []
    },
    {
      "cell_type": "markdown",
      "metadata": {
        "id": "lSRKQEqkwu1u"
      },
      "source": [
        "A API do Tensorflow depende dos chamados `protocol buffers`, também conhecidos como `protobufs`.<br/>\n",
        "Abaixo estamos compilando todos os `protobufs` na pasta `object_detection/protos` em Python."
      ]
    },
    {
      "cell_type": "code",
      "metadata": {
        "id": "2d31tAxVwnQa"
      },
      "source": [
        "%cd /content/models/research/\n",
        "!protoc object_detection/protos/*.proto --python_out=."
      ],
      "execution_count": null,
      "outputs": []
    },
    {
      "cell_type": "markdown",
      "metadata": {
        "id": "MOrdQCZhw5FP"
      },
      "source": [
        "Instalando a API do Tensorflow"
      ]
    },
    {
      "cell_type": "code",
      "metadata": {
        "id": "UhGod9y-w9fD"
      },
      "source": [
        "!cp object_detection/packages/tf2/setup.py .\n",
        "!python -m pip install ."
      ],
      "execution_count": null,
      "outputs": []
    },
    {
      "cell_type": "markdown",
      "metadata": {
        "id": "olBKl3vkxnpW"
      },
      "source": [
        "Executando o teste de construtor de modelo"
      ]
    },
    {
      "cell_type": "code",
      "metadata": {
        "id": "b_uRRbgVx1as"
      },
      "source": [
        "!python /content/models/research/object_detection/builders/model_builder_tf2_test.py"
      ],
      "execution_count": null,
      "outputs": []
    },
    {
      "cell_type": "markdown",
      "metadata": {
        "id": "zw0IwN0lyHiq"
      },
      "source": [
        "## **Conectando ao Google Drive**"
      ]
    },
    {
      "cell_type": "code",
      "metadata": {
        "id": "mgJ6Ap6_yW2H"
      },
      "source": [
        "%cd /content/\n",
        "from google.colab import drive\n",
        "drive.mount('/content/gdrive')"
      ],
      "execution_count": null,
      "outputs": []
    },
    {
      "cell_type": "markdown",
      "metadata": {
        "id": "oCTPHpVH5uYt"
      },
      "source": [
        "Cria um link simbólico para facilitar acesso"
      ]
    },
    {
      "cell_type": "code",
      "metadata": {
        "id": "1tHBxSJo5r6r"
      },
      "source": [
        "!ln -s /content/gdrive/My\\ Drive/ /content/mydrive\n",
        "!ls /content/mydrive"
      ],
      "execution_count": null,
      "outputs": []
    },
    {
      "cell_type": "markdown",
      "metadata": {
        "id": "1snwz40q59Ml"
      },
      "source": [
        "Copia o dataset para a cloud VM"
      ]
    },
    {
      "cell_type": "code",
      "metadata": {
        "id": "Udc3MuNE5yZl"
      },
      "source": [
        "!cp \"/content/mydrive/{your path here}/dataset.zip /content\n",
        "!unzip dataset.zip"
      ],
      "execution_count": null,
      "outputs": []
    },
    {
      "cell_type": "markdown",
      "metadata": {
        "id": "OzUM1Brk6OyN"
      },
      "source": [
        "##**Configurando Dataset**"
      ]
    },
    {
      "cell_type": "markdown",
      "metadata": {
        "id": "JuEauibC6VMP"
      },
      "source": [
        "Converte os rotulos de xml para csv"
      ]
    },
    {
      "cell_type": "code",
      "metadata": {
        "id": "zkPu7E9Z6R3B"
      },
      "source": [
        "%cd /content/dataset/\n",
        "!python xml_to_csv.py"
      ],
      "execution_count": null,
      "outputs": []
    },
    {
      "cell_type": "markdown",
      "metadata": {
        "id": "3SRzcLpr6YRi"
      },
      "source": [
        "Gera os arquivos no formato tensorflow<br>\n",
        "train.record e test.record"
      ]
    },
    {
      "cell_type": "code",
      "metadata": {
        "id": "7OZ3hJwD6qbN"
      },
      "source": [
        "%cd /content/dataset/\n",
        "!python3 generate_tfrecord.py --csv_input=data/train_labels.csv --output_path=data/train.record --image_dir=train/\n",
        "!python3 generate_tfrecord.py --csv_input=data/test_labels.csv --output_path=data/test.record --image_dir=test/"
      ],
      "execution_count": null,
      "outputs": []
    },
    {
      "cell_type": "markdown",
      "metadata": {
        "id": "ZjfTwvJZ7OHE"
      },
      "source": [
        "## **Mobilenet V2**"
      ]
    },
    {
      "cell_type": "markdown",
      "metadata": {
        "id": "gDuqinOg7j9k"
      },
      "source": [
        "Baixando e descompactando a mobilenet v2 que utiliza o extrator de recursos SSD(single shot detection), disponível no repositorio do Tensorflow.\n",
        "\n",
        "Junto ao modelo vem os pesos gerados do treinamento sobre o dataset COCO"
      ]
    },
    {
      "cell_type": "code",
      "metadata": {
        "id": "FJX1W3h-7WV_"
      },
      "source": [
        "%cd /content\n",
        "!wget http://download.tensorflow.org/models/object_detection/classification/tf2/20200710/mobilenet_v2.tar.gz\n",
        "!tar -xvf mobilenet_v2.tar.gz\n",
        "!rm mobilenet_v2.tar.gz"
      ],
      "execution_count": null,
      "outputs": []
    },
    {
      "cell_type": "markdown",
      "metadata": {
        "id": "y1ZRHgDY9EJR"
      },
      "source": [
        "Em seguida é necessário baixar o arquivo de configuração para o modelo. Este arquivo já vem configurado para utilizar em TPU.\n",
        "\n",
        "É interessante renomear ele para facilitar"
      ]
    },
    {
      "cell_type": "code",
      "metadata": {
        "id": "e-RSKFma8mFj"
      },
      "source": [
        "!wget https://raw.githubusercontent.com/tensorflow/models/master/research/object_detection/configs/tf2/ssd_mobilenet_v2_320x320_coco17_tpu-8.config\n",
        "!mv ssd_mobilenet_v2_320x320_coco17_tpu-8.config mobilenet_v2.config"
      ],
      "execution_count": null,
      "outputs": []
    },
    {
      "cell_type": "markdown",
      "metadata": {
        "id": "4zl0IhKt9hme"
      },
      "source": [
        "## **Configurações Google Cloud Service Bucket**"
      ]
    },
    {
      "cell_type": "markdown",
      "metadata": {
        "id": "IPK3WYIZt5mQ"
      },
      "source": [
        "Setando variáveis para facilitar o acesso"
      ]
    },
    {
      "cell_type": "code",
      "metadata": {
        "id": "rM6Xs5gC_nvj"
      },
      "source": [
        "PROJECT = \"Your Project Here\"\n",
        "YOUR_GCS_BUCKET = \"Your GCS Bucket Here\""
      ],
      "execution_count": null,
      "outputs": []
    },
    {
      "cell_type": "code",
      "metadata": {
        "id": "Z2v7G9s59sqo"
      },
      "source": [
        "!gcloud config set project '{PROJECT}'"
      ],
      "execution_count": null,
      "outputs": []
    },
    {
      "cell_type": "markdown",
      "metadata": {
        "id": "bPzGw__a9vjH"
      },
      "source": [
        "Em seguida, criaremos o acesso ao bucket que queremos acessar"
      ]
    },
    {
      "cell_type": "code",
      "metadata": {
        "id": "RDE7grQr-Hqs"
      },
      "source": [
        "!gsutil mb gs://'{YOUR_GCS_BUCKET}'"
      ],
      "execution_count": null,
      "outputs": []
    },
    {
      "cell_type": "markdown",
      "metadata": {
        "id": "5fEj2b5T-JrN"
      },
      "source": [
        "Autenticação ao Bucket"
      ]
    },
    {
      "cell_type": "code",
      "metadata": {
        "id": "cA0XiRKy-MK7"
      },
      "source": [
        "!gcloud auth login"
      ],
      "execution_count": null,
      "outputs": []
    },
    {
      "cell_type": "code",
      "metadata": {
        "id": "QzN4Iz64BRju"
      },
      "source": [
        "!gcloud auth application-default login"
      ],
      "execution_count": null,
      "outputs": []
    },
    {
      "cell_type": "markdown",
      "metadata": {
        "id": "X6E0_QSIvHGZ"
      },
      "source": [
        "Em seguida, daremos acesso a TPU da VM ao nosso repositório no Bucket adicionando a conta de acesso especifica para TPU.<br/> \n",
        "O comando abaixo retorna a conta de acesso de TPU."
      ]
    },
    {
      "cell_type": "code",
      "metadata": {
        "id": "XQj8vGxWuDLM"
      },
      "source": [
        "!curl -H \"Authorization: Bearer $(gcloud auth print-access-token)\" https://ml.googleapis.com/v1/projects/'{PROJECT}':getConfig"
      ],
      "execution_count": null,
      "outputs": []
    },
    {
      "cell_type": "markdown",
      "metadata": {
        "id": "3wHWcdPwawjE"
      },
      "source": [
        "Define uma varivel com a conta de acesso de TPU"
      ]
    },
    {
      "cell_type": "code",
      "metadata": {
        "id": "rify43WUvrzc"
      },
      "source": [
        "TPU_ACCOUNT = \"Your TPU Account Here\""
      ],
      "execution_count": null,
      "outputs": []
    },
    {
      "cell_type": "code",
      "metadata": {
        "id": "gPwM0vc9v1s7"
      },
      "source": [
        "!gcloud projects add-iam-policy-binding '{PROJECT}' --member serviceAccount:'{TPU_ACCOUNT}' --role roles/ml.serviceAgent"
      ],
      "execution_count": null,
      "outputs": []
    },
    {
      "cell_type": "markdown",
      "metadata": {
        "id": "I_CNeQSca8Hv"
      },
      "source": [
        "## **Transferindo os dados para o GCS Bucket**"
      ]
    },
    {
      "cell_type": "markdown",
      "metadata": {
        "id": "FKcBAOsObN_L"
      },
      "source": [
        "Primeiro mandamos os arquivos record, que nada mais são que o dataset convertido para o formato do tensorflow"
      ]
    },
    {
      "cell_type": "code",
      "metadata": {
        "id": "V4rGxnwubIt4"
      },
      "source": [
        "!gsutil -m cp -r /content/dataset/data/*.record gs://'{YOUR_GCS_BUCKET}'/data/"
      ],
      "execution_count": null,
      "outputs": []
    },
    {
      "cell_type": "markdown",
      "metadata": {
        "id": "60CdMyYObaR9"
      },
      "source": [
        "Envia o arquivo que contém as classes dos objetos para detecção"
      ]
    },
    {
      "cell_type": "code",
      "metadata": {
        "id": "tR5Qi3SobWO4"
      },
      "source": [
        "!gsutil cp /content/dataset/data/object-detection.pbtxt gs://'{YOUR_GCS_BUCKET}'/data/object-detection.pbtxt"
      ],
      "execution_count": null,
      "outputs": []
    },
    {
      "cell_type": "markdown",
      "metadata": {
        "id": "EGo36K1Eb6pQ"
      },
      "source": [
        "Checkpoints do modelo pré treinado"
      ]
    },
    {
      "cell_type": "code",
      "metadata": {
        "id": "_2QNnIb9cAw-"
      },
      "source": [
        "!gsutil cp /content/mobilenet_v2/mobilenet_v2.ckpt* gs://'{YOUR_GCS_BUCKET}'/data/"
      ],
      "execution_count": null,
      "outputs": []
    },
    {
      "cell_type": "markdown",
      "metadata": {
        "id": "4c7344yicCU7"
      },
      "source": [
        "Arquivo de configuração do modelo"
      ]
    },
    {
      "cell_type": "code",
      "metadata": {
        "id": "UuIR5UpMcIp8"
      },
      "source": [
        "!gsutil cp /content/mobilenet_v2.config gs://'{YOUR_GCS_BUCKET}'/data/mobilenet_v2.config"
      ],
      "execution_count": null,
      "outputs": []
    },
    {
      "cell_type": "markdown",
      "metadata": {
        "id": "hNi-M96zcOtl"
      },
      "source": [
        "## **Definindo os parâmetros de treinamento**"
      ]
    },
    {
      "cell_type": "markdown",
      "metadata": {
        "id": "f7lPqlAycs7G"
      },
      "source": [
        "Copia o arquivo de configuração do bucket"
      ]
    },
    {
      "cell_type": "code",
      "metadata": {
        "id": "urUz6EW4cwo2"
      },
      "source": [
        "!gsutil cp gs://'{YOUR_GCS_BUCKET}'/data/mobilenet_v2.config /content/mobilenet_v2.config"
      ],
      "execution_count": null,
      "outputs": []
    },
    {
      "cell_type": "markdown",
      "metadata": {
        "id": "na4nXAiWcz7O"
      },
      "source": [
        "Variaveis a serem editadas no arquivo"
      ]
    },
    {
      "cell_type": "code",
      "metadata": {
        "id": "5NGpvu9Bc32X"
      },
      "source": [
        "num_classes = 2\n",
        "batch_size = 256 \n",
        "num_steps = 5000 \n",
        "num_eval_steps = 1000\n",
        "\n",
        "# Após primeiro treinamento, é necessário alterar para detection, \n",
        "# pois o treinamento é salvo como detection\n",
        "fine_tune_checkpoint_type = \"classification\"\n",
        "\n",
        "train_record_path = \"gs://\"+YOUR_GCS_BUCKET+\"/data/train.record\"\n",
        "test_record_path = \"gs://\"+YOUR_GCS_BUCKET+\"/data/test.record\"\n",
        "\n",
        "# Onde será salvo os checkpoints de treinamento\n",
        "model_dir = \"gs://\"+YOUR_GCS_BUCKET+\"/train\" \n",
        "labelmap_path = \"gs://\"+YOUR_GCS_BUCKET+\"/data/object-detection.pbtxt\"\n",
        "\n",
        "pipeline_config_path = \"gs://\"+YOUR_GCS_BUCKET+\"/data/mobilenet_v2.config\"\n",
        "\n",
        "# Após primeiro treinamento altere para apontar para o ultimo checkpoint gerado\n",
        "# Será algo parecido com isso \"gs://\"+YOUR_GCS_BUCKET+\"/train/ckpt-n\" sendo n o numero do ultimo checkpoint\n",
        "fine_tune_checkpoint = \"gs://\"+YOUR_GCS_BUCKET+\"/data/mobilenet_v2.ckpt-1\""
      ],
      "execution_count": null,
      "outputs": []
    },
    {
      "cell_type": "markdown",
      "metadata": {
        "id": "_edubxr90MkI"
      },
      "source": [
        "Editando o arquivo de configuração\n"
      ]
    },
    {
      "cell_type": "code",
      "metadata": {
        "id": "4XnRcA_V0U0x"
      },
      "source": [
        "import re\n",
        "\n",
        "with open('/content/mobilenet_v2.config') as f:\n",
        "    config = f.read()\n",
        "\n",
        "with open('/content/mobilenet_v2.config', 'w') as f:\n",
        "\n",
        "  # Set labelmap path\n",
        "  config = re.sub('label_map_path: \".*?\"', \n",
        "                  'label_map_path: \"{}\"'.format(labelmap_path), config)\n",
        "  \n",
        "  # Set fine_tune_checkpoint path\n",
        "  config = re.sub('fine_tune_checkpoint: \".*?\"',\n",
        "                  'fine_tune_checkpoint: \"{}\"'.format(fine_tune_checkpoint),config)\n",
        "  \n",
        "  # Set type fine tune\n",
        "  config = re.sub('fine_tune_checkpoint_type: \".*?\"',\n",
        "                  'fine_tune_checkpoint_type: \"{}\"'.format(fine_tune_checkpoint_type),config)\n",
        "\n",
        "\n",
        "  # Set train tf-record file path\n",
        "  config = re.sub('(input_path: \".*?)(PATH_TO_BE_CONFIGURED/train)(.*?\")', \n",
        "                  'input_path: \"{}\"'.format(train_record_path), config)\n",
        "  \n",
        "  # Set test tf-record file path\n",
        "  config = re.sub('(input_path: \".*?)(PATH_TO_BE_CONFIGURED/val)(.*?\")', \n",
        "                  'input_path: \"{}\"'.format(test_record_path), config)\n",
        "  \n",
        "  # Set number of classes.\n",
        "  config = re.sub('num_classes: [0-9]+',\n",
        "                  'num_classes: {}'.format(num_classes), config)\n",
        "  \n",
        "  # Set batch size\n",
        "  config = re.sub('batch_size: [0-9]+',\n",
        "                  'batch_size: {}'.format(batch_size), config)\n",
        "  \n",
        "  # Set training steps\n",
        "  config = re.sub('num_steps: [0-9]+',\n",
        "                  'num_steps: {}'.format(num_steps), config)\n",
        "  \n",
        "  f.write(config)"
      ],
      "execution_count": null,
      "outputs": []
    },
    {
      "cell_type": "markdown",
      "metadata": {
        "id": "nA_4SXDjJF1P"
      },
      "source": [
        "Exibe o arquivo para verificar se as alterações foram realizadas"
      ]
    },
    {
      "cell_type": "code",
      "metadata": {
        "id": "zPxaztnF0ZLI"
      },
      "source": [
        "%cat /content/mobilenet_v2.config"
      ],
      "execution_count": null,
      "outputs": []
    },
    {
      "cell_type": "markdown",
      "metadata": {
        "id": "Pgn5fKj50cEv"
      },
      "source": [
        "Envia o arquivo de configuração editado para o Bucket"
      ]
    },
    {
      "cell_type": "code",
      "metadata": {
        "id": "FVvpat3j0biB"
      },
      "source": [
        "!gsutil cp /content/mobilenet_v2.config gs://'{YOUR_GCS_BUCKET}'/data/mobilenet_v2.config"
      ],
      "execution_count": null,
      "outputs": []
    },
    {
      "cell_type": "markdown",
      "metadata": {
        "id": "8P7dzI-40s-N"
      },
      "source": [
        "## **Treinando o modelo**"
      ]
    },
    {
      "cell_type": "code",
      "metadata": {
        "id": "3l2f5CAY0xka"
      },
      "source": [
        "!python /content/models/research/object_detection/model_main_tf2.py \\\n",
        "  --pipeline_config_path={pipeline_config_path} \\\n",
        "  --model_dir={model_dir} \\\n",
        "  --use_tpu=True"
      ],
      "execution_count": null,
      "outputs": []
    },
    {
      "cell_type": "markdown",
      "metadata": {
        "id": "cgRaCDQM1nhP"
      },
      "source": [
        "## **Validação do modelo**"
      ]
    },
    {
      "cell_type": "markdown",
      "metadata": {
        "id": "b-SbCzdU16_5"
      },
      "source": [
        "Assim que a avaliação terminar, será exibida a seguinte mensagem:<br/>\n",
        "`INFO:tensorflow:Waiting for new checkpoint at /content/training/`<br/>\n",
        "Então você já pode parar a execução da célula"
      ]
    },
    {
      "cell_type": "code",
      "metadata": {
        "id": "adL2vMIp1rwf"
      },
      "source": [
        "!python /content/models/research/object_detection/model_main_tf2.py \\\n",
        "    --pipeline_config_path={pipeline_config_path} \\\n",
        "    --model_dir={model_dir} \\\n",
        "    --checkpoint_dir={model_dir}"
      ],
      "execution_count": null,
      "outputs": []
    },
    {
      "cell_type": "markdown",
      "metadata": {
        "id": "P7gG0wao2_6u"
      },
      "source": [
        "## **Métricas de treinamento e validação**"
      ]
    },
    {
      "cell_type": "code",
      "metadata": {
        "id": "ZP5AAiBE3AVj"
      },
      "source": [
        "%load_ext tensorboard\n",
        "%tensorboard --logdir gs://'{YOUR_GCS_BUCKET}'/train"
      ],
      "execution_count": null,
      "outputs": []
    }
  ]
}